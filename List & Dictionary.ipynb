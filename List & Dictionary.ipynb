{
 "cells": [
  {
   "cell_type": "markdown",
   "id": "681413eb-89f4-4a2d-b66a-4444c60fc632",
   "metadata": {},
   "source": [
    "# List"
   ]
  },
  {
   "cell_type": "code",
   "execution_count": 1,
   "id": "e23f8e57-4848-49f6-b6e1-f7e118dab896",
   "metadata": {},
   "outputs": [
    {
     "data": {
      "text/plain": [
       "[1, 2, 3]"
      ]
     },
     "execution_count": 1,
     "metadata": {},
     "output_type": "execute_result"
    }
   ],
   "source": [
    "a = [1,2,3]\n",
    "a"
   ]
  },
  {
   "cell_type": "code",
   "execution_count": 2,
   "id": "4c91ba1b-d1ca-4cf7-9182-2edae80c4795",
   "metadata": {},
   "outputs": [
    {
     "data": {
      "text/plain": [
       "list"
      ]
     },
     "execution_count": 2,
     "metadata": {},
     "output_type": "execute_result"
    }
   ],
   "source": [
    "type(a)"
   ]
  },
  {
   "cell_type": "code",
   "execution_count": 3,
   "id": "3768e7af-c8ec-4aa4-ab9b-33bc57746f4c",
   "metadata": {},
   "outputs": [],
   "source": [
    "a1 = list()"
   ]
  },
  {
   "cell_type": "code",
   "execution_count": 4,
   "id": "7e45473f-a4c4-48d1-bc4f-eb2a926a250e",
   "metadata": {},
   "outputs": [],
   "source": [
    "a2 = list(a)"
   ]
  },
  {
   "cell_type": "code",
   "execution_count": 5,
   "id": "b62c508d-2442-4e67-8ae3-c10f038651df",
   "metadata": {},
   "outputs": [
    {
     "data": {
      "text/plain": [
       "[1, 2, 3]"
      ]
     },
     "execution_count": 5,
     "metadata": {},
     "output_type": "execute_result"
    }
   ],
   "source": [
    "a2"
   ]
  },
  {
   "cell_type": "code",
   "execution_count": 6,
   "id": "4b151f12-f4cc-4ee8-ae3d-8d77f13fb6ea",
   "metadata": {},
   "outputs": [
    {
     "data": {
      "text/plain": [
       "[0, 1, 4, 9, 16, 25, 36, 49, 64, 81]"
      ]
     },
     "execution_count": 6,
     "metadata": {},
     "output_type": "execute_result"
    }
   ],
   "source": [
    "a3 = [i*i for i in range(10)]\n",
    "a3"
   ]
  },
  {
   "cell_type": "code",
   "execution_count": 7,
   "id": "9635afd8-8c53-46c4-a5d0-549dffce1cd6",
   "metadata": {},
   "outputs": [
    {
     "data": {
      "text/plain": [
       "[5, 5.2, 'sde', (55+6j)]"
      ]
     },
     "execution_count": 7,
     "metadata": {},
     "output_type": "execute_result"
    }
   ],
   "source": [
    "a4 = [5, 5.2, 'sde', 55+6j]\n",
    "a4"
   ]
  },
  {
   "cell_type": "code",
   "execution_count": 8,
   "id": "19b08122-567f-409a-bcca-15fdbcd8e3dc",
   "metadata": {},
   "outputs": [
    {
     "data": {
      "text/plain": [
       "list"
      ]
     },
     "execution_count": 8,
     "metadata": {},
     "output_type": "execute_result"
    }
   ],
   "source": [
    "type(a4)"
   ]
  },
  {
   "cell_type": "code",
   "execution_count": 9,
   "id": "5720761b-de37-4628-80e3-5121a8344ffe",
   "metadata": {},
   "outputs": [
    {
     "data": {
      "text/plain": [
       "complex"
      ]
     },
     "execution_count": 9,
     "metadata": {},
     "output_type": "execute_result"
    }
   ],
   "source": [
    "type(a4[3])"
   ]
  },
  {
   "cell_type": "code",
   "execution_count": 10,
   "id": "8bfc7b37-18f9-4c2f-be7c-6931c844cfa4",
   "metadata": {},
   "outputs": [
    {
     "data": {
      "text/plain": [
       "'sde'"
      ]
     },
     "execution_count": 10,
     "metadata": {},
     "output_type": "execute_result"
    }
   ],
   "source": [
    "a4[-2]"
   ]
  },
  {
   "cell_type": "code",
   "execution_count": 11,
   "id": "efe71f67-eae4-4c77-9dd0-f12261d85e53",
   "metadata": {},
   "outputs": [
    {
     "data": {
      "text/plain": [
       "float"
      ]
     },
     "execution_count": 11,
     "metadata": {},
     "output_type": "execute_result"
    }
   ],
   "source": [
    "type(a4[-3])"
   ]
  },
  {
   "cell_type": "code",
   "execution_count": 12,
   "id": "f7d7a293-49a0-4961-90bb-45b0dc05a35e",
   "metadata": {},
   "outputs": [
    {
     "data": {
      "text/plain": [
       "['sde', (55+6j)]"
      ]
     },
     "execution_count": 12,
     "metadata": {},
     "output_type": "execute_result"
    }
   ],
   "source": [
    "a4[2:4]"
   ]
  },
  {
   "cell_type": "code",
   "execution_count": 13,
   "id": "35c4f817-c6d4-4e61-9093-ca746bc3aa4e",
   "metadata": {},
   "outputs": [
    {
     "data": {
      "text/plain": [
       "[int, float, str, complex]"
      ]
     },
     "execution_count": 13,
     "metadata": {},
     "output_type": "execute_result"
    }
   ],
   "source": [
    "a5 = [type(a4[i]) for i in range(len(a4))]\n",
    "a5"
   ]
  },
  {
   "cell_type": "code",
   "execution_count": 14,
   "id": "08d44aa0-b61e-4d08-9f7b-b622a3d65f72",
   "metadata": {},
   "outputs": [
    {
     "name": "stdout",
     "output_type": "stream",
     "text": [
      "<class 'int'>\n",
      "<class 'float'>\n",
      "<class 'str'>\n",
      "<class 'complex'>\n"
     ]
    }
   ],
   "source": [
    "for i in a5:\n",
    "    print(i)"
   ]
  },
  {
   "cell_type": "code",
   "execution_count": 15,
   "id": "d9e16ac5-5ec5-4f49-a686-254b4fc93844",
   "metadata": {},
   "outputs": [
    {
     "name": "stdin",
     "output_type": "stream",
     "text": [
      " 5 6 3 8 9  \n"
     ]
    },
    {
     "data": {
      "text/plain": [
       "['5', '6', '3', '8', '9', '', '']"
      ]
     },
     "execution_count": 15,
     "metadata": {},
     "output_type": "execute_result"
    }
   ],
   "source": [
    "data = input()\n",
    "a6 = data.split(\" \")\n",
    "a6"
   ]
  },
  {
   "cell_type": "code",
   "execution_count": 16,
   "id": "c1bd9021-ce1b-4fd8-a238-e0bff42f573c",
   "metadata": {},
   "outputs": [
    {
     "name": "stdin",
     "output_type": "stream",
     "text": [
      "  5 6 3 2 5   \n"
     ]
    },
    {
     "data": {
      "text/plain": [
       "['5', '6', '3', '2', '5']"
      ]
     },
     "execution_count": 16,
     "metadata": {},
     "output_type": "execute_result"
    }
   ],
   "source": [
    "data = input().strip()\n",
    "a7 = data.split(\" \")\n",
    "a7"
   ]
  },
  {
   "cell_type": "code",
   "execution_count": 17,
   "id": "94cd6ebc-0d4e-40a9-8c75-960a177ec0f4",
   "metadata": {},
   "outputs": [
    {
     "data": {
      "text/plain": [
       "[5, 6, 3, 2, 5]"
      ]
     },
     "execution_count": 17,
     "metadata": {},
     "output_type": "execute_result"
    }
   ],
   "source": [
    "for i in range(len(a7)):\n",
    "    a7[i] = int(a7[i])\n",
    "a7"
   ]
  },
  {
   "cell_type": "code",
   "execution_count": 18,
   "id": "006b0b14-0844-4eb2-b431-586f95b22e3d",
   "metadata": {},
   "outputs": [
    {
     "name": "stdin",
     "output_type": "stream",
     "text": [
      "      5 2 3     \n"
     ]
    },
    {
     "data": {
      "text/plain": [
       "[5, 2, 3]"
      ]
     },
     "execution_count": 18,
     "metadata": {},
     "output_type": "execute_result"
    }
   ],
   "source": [
    "a8 = [int(x) for x in input().strip().split()]\n",
    "a8"
   ]
  },
  {
   "cell_type": "code",
   "execution_count": 19,
   "id": "2f1bcc0c-d1f9-4475-b69c-1be04f93cd91",
   "metadata": {},
   "outputs": [
    {
     "data": {
      "text/plain": [
       "['q', 'w', 'e', 'r', 't', 'y']"
      ]
     },
     "execution_count": 19,
     "metadata": {},
     "output_type": "execute_result"
    }
   ],
   "source": [
    "a9 = list(\"qwerty\")\n",
    "a9"
   ]
  },
  {
   "cell_type": "code",
   "execution_count": 20,
   "id": "7cdbe029-928a-4bf5-a8ef-d1e51e14dfac",
   "metadata": {},
   "outputs": [
    {
     "data": {
      "text/plain": [
       "['q', 'w', 'e', 'r', 't', 'y', 'u']"
      ]
     },
     "execution_count": 20,
     "metadata": {},
     "output_type": "execute_result"
    }
   ],
   "source": [
    "a9.append('u')\n",
    "a9"
   ]
  },
  {
   "cell_type": "code",
   "execution_count": 21,
   "id": "2e62a5ef-c43f-4afc-9a9a-73e2cb901189",
   "metadata": {},
   "outputs": [
    {
     "data": {
      "text/plain": [
       "['q', 'w', 'e', 'A', 'r', 't', 'y', 'u']"
      ]
     },
     "execution_count": 21,
     "metadata": {},
     "output_type": "execute_result"
    }
   ],
   "source": [
    "a9.insert(3,\"A\")\n",
    "a9"
   ]
  },
  {
   "cell_type": "code",
   "execution_count": 22,
   "id": "04db27dd-3516-4747-ba53-66b1a591c24f",
   "metadata": {},
   "outputs": [
    {
     "data": {
      "text/plain": [
       "[2, 8, 'p']"
      ]
     },
     "execution_count": 22,
     "metadata": {},
     "output_type": "execute_result"
    }
   ],
   "source": [
    "a10 = [2, 8, 'p']\n",
    "a10"
   ]
  },
  {
   "cell_type": "code",
   "execution_count": 23,
   "id": "f55c744d-925c-4bf5-aa91-26e8ab476ae9",
   "metadata": {},
   "outputs": [
    {
     "data": {
      "text/plain": [
       "[2, 8, 'p', 'q', 'w', 'e', 'A', 'r', 't', 'y', 'u']"
      ]
     },
     "execution_count": 23,
     "metadata": {},
     "output_type": "execute_result"
    }
   ],
   "source": [
    "a10.extend(a9)\n",
    "a10"
   ]
  },
  {
   "cell_type": "code",
   "execution_count": 24,
   "id": "de684e8a-ee51-486c-ae9d-d411733faf4c",
   "metadata": {},
   "outputs": [
    {
     "data": {
      "text/plain": [
       "[2, 8, 'p', 'q', 'w', 'e', 'A', 'r', 't', 'y']"
      ]
     },
     "execution_count": 24,
     "metadata": {},
     "output_type": "execute_result"
    }
   ],
   "source": [
    "a10.pop()\n",
    "a10"
   ]
  },
  {
   "cell_type": "code",
   "execution_count": 25,
   "id": "1023c398-9b0d-4d93-9480-8666942eb807",
   "metadata": {},
   "outputs": [
    {
     "data": {
      "text/plain": [
       "[8, 'p', 'q', 'w', 'e', 'A', 'r', 't', 'y']"
      ]
     },
     "execution_count": 25,
     "metadata": {},
     "output_type": "execute_result"
    }
   ],
   "source": [
    "a10.pop(0)\n",
    "a10"
   ]
  },
  {
   "cell_type": "code",
   "execution_count": 26,
   "id": "9b955b69-73cf-4a70-a460-476f2f4164c7",
   "metadata": {},
   "outputs": [
    {
     "data": {
      "text/plain": [
       "[8, 'p', 'q', 'w', 'e', 'r', 't', 'y']"
      ]
     },
     "execution_count": 26,
     "metadata": {},
     "output_type": "execute_result"
    }
   ],
   "source": [
    "a10.pop(5)\n",
    "a10"
   ]
  },
  {
   "cell_type": "code",
   "execution_count": 27,
   "id": "405a9e27-b366-41e0-85c6-345bcfe38bd4",
   "metadata": {},
   "outputs": [
    {
     "data": {
      "text/plain": [
       "['p', 'q', 'w', 'e', 'r', 't', 'y']"
      ]
     },
     "execution_count": 27,
     "metadata": {},
     "output_type": "execute_result"
    }
   ],
   "source": [
    "a10.remove(8)\n",
    "a10"
   ]
  },
  {
   "cell_type": "code",
   "execution_count": 28,
   "id": "547792ad-618e-4d04-8cb4-ed3fb8efc1d2",
   "metadata": {},
   "outputs": [
    {
     "data": {
      "text/plain": [
       "['q', 'w', 'e', 'r', 't', 'y']"
      ]
     },
     "execution_count": 28,
     "metadata": {},
     "output_type": "execute_result"
    }
   ],
   "source": [
    "del a10[0]\n",
    "a10    "
   ]
  },
  {
   "cell_type": "code",
   "execution_count": 29,
   "id": "cd355a43-96ff-48a7-85bf-9fb20c16d35d",
   "metadata": {},
   "outputs": [
    {
     "data": {
      "text/plain": [
       "['q', 'w', 'e', 'y']"
      ]
     },
     "execution_count": 29,
     "metadata": {},
     "output_type": "execute_result"
    }
   ],
   "source": [
    "del a10[3:5]\n",
    "a10"
   ]
  },
  {
   "cell_type": "code",
   "execution_count": 30,
   "id": "5578d199-21ff-4054-a9a3-a251502b6a59",
   "metadata": {},
   "outputs": [
    {
     "data": {
      "text/plain": [
       "['q', 'w', 'e', 'y', 'q', 'w', 'e', 'y']"
      ]
     },
     "execution_count": 30,
     "metadata": {},
     "output_type": "execute_result"
    }
   ],
   "source": [
    "a10 = a10 + a10\n",
    "a10"
   ]
  },
  {
   "cell_type": "code",
   "execution_count": 31,
   "id": "fee6af66-2f85-425f-b8ee-2f9e43412eab",
   "metadata": {},
   "outputs": [
    {
     "data": {
      "text/plain": [
       "['q',\n",
       " 'w',\n",
       " 'e',\n",
       " 'y',\n",
       " 'q',\n",
       " 'w',\n",
       " 'e',\n",
       " 'y',\n",
       " 'q',\n",
       " 'w',\n",
       " 'e',\n",
       " 'y',\n",
       " 'q',\n",
       " 'w',\n",
       " 'e',\n",
       " 'y']"
      ]
     },
     "execution_count": 31,
     "metadata": {},
     "output_type": "execute_result"
    }
   ],
   "source": [
    "a10 = a10*2\n",
    "a10"
   ]
  },
  {
   "cell_type": "code",
   "execution_count": 32,
   "id": "f7f38ada-c804-4ae6-81dd-356501f49245",
   "metadata": {},
   "outputs": [
    {
     "data": {
      "text/plain": [
       "[0, 3, 5, 5, 7, 8, 9]"
      ]
     },
     "execution_count": 32,
     "metadata": {},
     "output_type": "execute_result"
    }
   ],
   "source": [
    "import numpy as np\n",
    "import pandas as pd\n",
    "a11 = [5,8,9,3,0,7,5]\n",
    "a11.sort()\n",
    "a11"
   ]
  },
  {
   "cell_type": "code",
   "execution_count": 33,
   "id": "31a1f463-3ae0-42ce-8109-5e6df61d2ab8",
   "metadata": {},
   "outputs": [
    {
     "data": {
      "text/plain": [
       "list"
      ]
     },
     "execution_count": 33,
     "metadata": {},
     "output_type": "execute_result"
    }
   ],
   "source": [
    "a11.count(5)\n",
    "type(a11)"
   ]
  },
  {
   "cell_type": "code",
   "execution_count": 34,
   "id": "2cb47699-dc7a-45ee-ba5d-086d6500a96b",
   "metadata": {},
   "outputs": [
    {
     "data": {
      "text/plain": [
       "0"
      ]
     },
     "execution_count": 34,
     "metadata": {},
     "output_type": "execute_result"
    }
   ],
   "source": [
    "a11.count(11)"
   ]
  },
  {
   "cell_type": "code",
   "execution_count": 35,
   "id": "1c90b726-68ef-4af5-bc63-ce05b8cb2bde",
   "metadata": {},
   "outputs": [
    {
     "data": {
      "text/plain": [
       "list"
      ]
     },
     "execution_count": 35,
     "metadata": {},
     "output_type": "execute_result"
    }
   ],
   "source": [
    "a11.index(9)\n",
    "type(a11)"
   ]
  },
  {
   "cell_type": "code",
   "execution_count": 36,
   "id": "bb25ea4b-2ed6-4c53-b366-08cab0aa9bce",
   "metadata": {},
   "outputs": [
    {
     "data": {
      "text/plain": [
       "[9, 8, 7, 5, 5, 3, 0]"
      ]
     },
     "execution_count": 36,
     "metadata": {},
     "output_type": "execute_result"
    }
   ],
   "source": [
    "a11.reverse()\n",
    "a11"
   ]
  },
  {
   "cell_type": "code",
   "execution_count": 37,
   "id": "a6ba377c-c5e8-4ad4-bdd1-7c13724d203e",
   "metadata": {},
   "outputs": [
    {
     "data": {
      "text/plain": [
       "False"
      ]
     },
     "execution_count": 37,
     "metadata": {},
     "output_type": "execute_result"
    }
   ],
   "source": [
    "11 in a11"
   ]
  },
  {
   "cell_type": "code",
   "execution_count": 38,
   "id": "cf8f0258-168a-4a3d-9f53-c4ab92cbd5d6",
   "metadata": {},
   "outputs": [
    {
     "data": {
      "text/plain": [
       "True"
      ]
     },
     "execution_count": 38,
     "metadata": {},
     "output_type": "execute_result"
    }
   ],
   "source": [
    "0 in a11"
   ]
  },
  {
   "cell_type": "markdown",
   "id": "b736fe51-d4e7-4aa0-9661-e0f03ff0fa1c",
   "metadata": {},
   "source": [
    "## Dictionary"
   ]
  },
  {
   "cell_type": "code",
   "execution_count": 39,
   "id": "59ecc03d-6550-42bf-8661-d969774c9265",
   "metadata": {},
   "outputs": [],
   "source": [
    "# Key Value Pair "
   ]
  },
  {
   "cell_type": "code",
   "execution_count": 40,
   "id": "87134e2b-7938-484b-baea-bb6e8bf934bd",
   "metadata": {},
   "outputs": [
    {
     "data": {
      "text/plain": [
       "{}"
      ]
     },
     "execution_count": 40,
     "metadata": {},
     "output_type": "execute_result"
    }
   ],
   "source": [
    "d = {}\n",
    "d"
   ]
  },
  {
   "cell_type": "code",
   "execution_count": 41,
   "id": "3548a206-bc78-419a-ac1c-8fbe4d5828ca",
   "metadata": {},
   "outputs": [
    {
     "data": {
      "text/plain": [
       "{23: 'wdd'}"
      ]
     },
     "execution_count": 41,
     "metadata": {},
     "output_type": "execute_result"
    }
   ],
   "source": [
    "d[23] = 'wdd'\n",
    "d"
   ]
  },
  {
   "cell_type": "code",
   "execution_count": 42,
   "id": "4a83cb06-4f64-46d6-a8a8-8cd49d9ab77b",
   "metadata": {},
   "outputs": [
    {
     "data": {
      "text/plain": [
       "{23: 'wdd', 'qw': 785}"
      ]
     },
     "execution_count": 42,
     "metadata": {},
     "output_type": "execute_result"
    }
   ],
   "source": [
    "d['qw'] = 785\n",
    "d"
   ]
  },
  {
   "cell_type": "code",
   "execution_count": 43,
   "id": "d4cd4fcf-acf1-4c00-abc6-44a35c5d5e05",
   "metadata": {},
   "outputs": [
    {
     "data": {
      "text/plain": [
       "{'name': 'Allen', 'Time': 0}"
      ]
     },
     "execution_count": 43,
     "metadata": {},
     "output_type": "execute_result"
    }
   ],
   "source": [
    "d = {'name' : 'Allen', 'Time':0}\n",
    "d"
   ]
  },
  {
   "cell_type": "code",
   "execution_count": 44,
   "id": "4a9c7fc3-8c87-4bfe-a60b-f9e37e60700d",
   "metadata": {},
   "outputs": [
    {
     "data": {
      "text/plain": [
       "{'name': 'Allen', 'Time': 0, 'Position': 'SDE'}"
      ]
     },
     "execution_count": 44,
     "metadata": {},
     "output_type": "execute_result"
    }
   ],
   "source": [
    "d['Position'] = 'SDE'\n",
    "d"
   ]
  },
  {
   "cell_type": "code",
   "execution_count": 45,
   "id": "12685edf-9ce0-46ae-8302-df51fd3a7527",
   "metadata": {},
   "outputs": [
    {
     "data": {
      "text/plain": [
       "{'name': 'Allen', 'Time': 0, 'Position': 'SDE', 0: 'list'}"
      ]
     },
     "execution_count": 45,
     "metadata": {},
     "output_type": "execute_result"
    }
   ],
   "source": [
    "# Keys are immutable\n",
    "# l = [5,8,9] # mutable\n",
    "d[0] = 'list'\n",
    "d"
   ]
  },
  {
   "cell_type": "code",
   "execution_count": 46,
   "id": "23db9e81-fdfb-4b3a-96f0-0ed72dc16f9f",
   "metadata": {},
   "outputs": [
    {
     "name": "stdout",
     "output_type": "stream",
     "text": [
      "name:Allen\n",
      "Time:0\n",
      "Position:SDE\n",
      "0:list\n"
     ]
    }
   ],
   "source": [
    "# iterate over key\n",
    "for i in d:\n",
    "    print(i, end = \":\")\n",
    "    print(d[i])"
   ]
  },
  {
   "cell_type": "code",
   "execution_count": 47,
   "id": "095e7980-18d3-4cb4-ad45-9fb05c56eb2d",
   "metadata": {},
   "outputs": [
    {
     "data": {
      "text/plain": [
       "{'name': 'Allen', 'Time': 0, 'Position': 'SDE'}"
      ]
     },
     "execution_count": 47,
     "metadata": {},
     "output_type": "execute_result"
    }
   ],
   "source": [
    "del d[0]\n",
    "d"
   ]
  },
  {
   "cell_type": "code",
   "execution_count": 48,
   "id": "aed9627a-89e2-4f11-a7c5-0ab27c196f8c",
   "metadata": {},
   "outputs": [
    {
     "name": "stdout",
     "output_type": "stream",
     "text": [
      "name:Allen\n",
      "Time:0\n",
      "Position:SDE\n"
     ]
    }
   ],
   "source": [
    "# iterate over key\n",
    "for i in d:\n",
    "    print(i, end = \":\")\n",
    "    print(d[i])"
   ]
  },
  {
   "cell_type": "code",
   "execution_count": 51,
   "id": "9598aa37-9651-4b5a-add8-e6042a827be5",
   "metadata": {},
   "outputs": [
    {
     "data": {
      "text/plain": [
       "True"
      ]
     },
     "execution_count": 51,
     "metadata": {},
     "output_type": "execute_result"
    }
   ],
   "source": [
    "d1 = {}\n",
    "d2 = {}\n",
    "d1 == d2"
   ]
  },
  {
   "cell_type": "code",
   "execution_count": 56,
   "id": "fe3d6a1f-7a02-43c2-94c2-8df447401d1e",
   "metadata": {},
   "outputs": [
    {
     "data": {
      "text/plain": [
       "False"
      ]
     },
     "execution_count": 56,
     "metadata": {},
     "output_type": "execute_result"
    }
   ],
   "source": [
    "d1 = {8:3}\n",
    "d2 = {6:9,8:3}\n",
    "d1 == d2"
   ]
  },
  {
   "cell_type": "code",
   "execution_count": 57,
   "id": "0980116c-1951-428b-823f-77974077d53d",
   "metadata": {},
   "outputs": [
    {
     "data": {
      "text/plain": [
       "1"
      ]
     },
     "execution_count": 57,
     "metadata": {},
     "output_type": "execute_result"
    }
   ],
   "source": [
    "len(d1)"
   ]
  },
  {
   "cell_type": "code",
   "execution_count": 58,
   "id": "92c9e00c-36de-4fea-aa42-4866c624b5ce",
   "metadata": {},
   "outputs": [
    {
     "data": {
      "text/plain": [
       "2"
      ]
     },
     "execution_count": 58,
     "metadata": {},
     "output_type": "execute_result"
    }
   ],
   "source": [
    "len(d2)"
   ]
  },
  {
   "cell_type": "code",
   "execution_count": 61,
   "id": "127e19e1-fb87-4840-9249-b8275f4c8fb3",
   "metadata": {},
   "outputs": [],
   "source": [
    "d2.clear()"
   ]
  },
  {
   "cell_type": "code",
   "execution_count": 62,
   "id": "c075b0df-13e3-44d1-a29a-f1dfeb13a151",
   "metadata": {},
   "outputs": [
    {
     "data": {
      "text/plain": [
       "{}"
      ]
     },
     "execution_count": 62,
     "metadata": {},
     "output_type": "execute_result"
    }
   ],
   "source": [
    "d2"
   ]
  },
  {
   "cell_type": "code",
   "execution_count": 75,
   "id": "638b73f7-23a1-4dd2-9597-a03dc60f0ca7",
   "metadata": {},
   "outputs": [
    {
     "data": {
      "text/plain": [
       "dict_keys([8, 5, 3])"
      ]
     },
     "execution_count": 75,
     "metadata": {},
     "output_type": "execute_result"
    }
   ],
   "source": [
    "d2 = {8:3, 5:9, 3:7}\n",
    "d2.keys()"
   ]
  },
  {
   "cell_type": "code",
   "execution_count": 76,
   "id": "020c3a7e-0b82-4749-89eb-0e25d6adda26",
   "metadata": {},
   "outputs": [
    {
     "data": {
      "text/plain": [
       "3"
      ]
     },
     "execution_count": 76,
     "metadata": {},
     "output_type": "execute_result"
    }
   ],
   "source": [
    "d2[8]"
   ]
  },
  {
   "cell_type": "code",
   "execution_count": 77,
   "id": "4b516e82-3fcb-4966-96b9-4484d3c5ba17",
   "metadata": {},
   "outputs": [
    {
     "data": {
      "text/plain": [
       "dict_values([3, 9, 7])"
      ]
     },
     "execution_count": 77,
     "metadata": {},
     "output_type": "execute_result"
    }
   ],
   "source": [
    "d2.values()"
   ]
  },
  {
   "cell_type": "code",
   "execution_count": 80,
   "id": "efee08b4-9e10-418f-95f0-8bbf3bbd91f2",
   "metadata": {},
   "outputs": [
    {
     "name": "stdout",
     "output_type": "stream",
     "text": [
      "3\n"
     ]
    }
   ],
   "source": [
    "if 8 in d2:\n",
    "    print(d2[8])\n",
    "else:\n",
    "    print('No Key Found')"
   ]
  },
  {
   "cell_type": "code",
   "execution_count": null,
   "id": "a786243d-c273-41d3-be41-ee0e13e622a7",
   "metadata": {},
   "outputs": [],
   "source": []
  }
 ],
 "metadata": {
  "kernelspec": {
   "display_name": "Python 3 (ipykernel)",
   "language": "python",
   "name": "python3"
  },
  "language_info": {
   "codemirror_mode": {
    "name": "ipython",
    "version": 3
   },
   "file_extension": ".py",
   "mimetype": "text/x-python",
   "name": "python",
   "nbconvert_exporter": "python",
   "pygments_lexer": "ipython3",
   "version": "3.9.12"
  }
 },
 "nbformat": 4,
 "nbformat_minor": 5
}
