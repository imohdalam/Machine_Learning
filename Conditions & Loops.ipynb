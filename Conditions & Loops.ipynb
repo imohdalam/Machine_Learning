{
 "cells": [
  {
   "cell_type": "code",
   "execution_count": 2,
   "id": "959c9fd0-d845-4d2f-996f-e5e9cd5ec328",
   "metadata": {},
   "outputs": [
    {
     "name": "stdout",
     "output_type": "stream",
     "text": [
      "<class 'bool'>\n",
      "<class 'bool'>\n"
     ]
    }
   ],
   "source": [
    "# Boolean datatype\n",
    "a = True # 1\n",
    "b = False  # 0\n",
    "print(type(a))\n",
    "print(type(b))"
   ]
  },
  {
   "cell_type": "code",
   "execution_count": 7,
   "id": "d9079f3d-5655-4fa1-94e2-52dca9f510e8",
   "metadata": {},
   "outputs": [
    {
     "data": {
      "text/plain": [
       "1"
      ]
     },
     "execution_count": 7,
     "metadata": {},
     "output_type": "execute_result"
    }
   ],
   "source": [
    "int(a)"
   ]
  },
  {
   "cell_type": "code",
   "execution_count": 8,
   "id": "456ead8c-24d5-4339-b77f-9b78fd0278a0",
   "metadata": {},
   "outputs": [
    {
     "data": {
      "text/plain": [
       "0"
      ]
     },
     "execution_count": 8,
     "metadata": {},
     "output_type": "execute_result"
    }
   ],
   "source": [
    "int(b)"
   ]
  },
  {
   "cell_type": "code",
   "execution_count": 12,
   "id": "b0aa7389-67f1-4c16-bfb5-6b5193574df5",
   "metadata": {},
   "outputs": [
    {
     "name": "stdout",
     "output_type": "stream",
     "text": [
      "False\n",
      "True\n"
     ]
    }
   ],
   "source": [
    "# Relational Operators\n",
    "x = 10\n",
    "y = 5\n",
    "print(x <= y)\n",
    "print(x > y)"
   ]
  },
  {
   "cell_type": "code",
   "execution_count": 16,
   "id": "845933d2-59f8-455d-a121-3c99381e7129",
   "metadata": {},
   "outputs": [
    {
     "name": "stdout",
     "output_type": "stream",
     "text": [
      "False\n",
      "True\n"
     ]
    }
   ],
   "source": [
    "a = 5.6\n",
    "b = 5\n",
    "print(a == b)\n",
    "print(int(a) == b)"
   ]
  },
  {
   "cell_type": "code",
   "execution_count": 21,
   "id": "4abff1e8-c4e7-49ac-a01c-aeb6abe378f6",
   "metadata": {},
   "outputs": [
    {
     "data": {
      "text/plain": [
       "False"
      ]
     },
     "execution_count": 21,
     "metadata": {},
     "output_type": "execute_result"
    }
   ],
   "source": [
    "# Logical Operators\n",
    "x > y and a == b"
   ]
  },
  {
   "cell_type": "code",
   "execution_count": 22,
   "id": "7bcdeac7-1780-4249-a077-2d05e9a0e599",
   "metadata": {},
   "outputs": [
    {
     "data": {
      "text/plain": [
       "True"
      ]
     },
     "execution_count": 22,
     "metadata": {},
     "output_type": "execute_result"
    }
   ],
   "source": [
    "x > y and int(a) == b"
   ]
  },
  {
   "cell_type": "code",
   "execution_count": 20,
   "id": "ad6949c8-6383-4e22-b26a-9cdc3c9fef06",
   "metadata": {},
   "outputs": [
    {
     "data": {
      "text/plain": [
       "True"
      ]
     },
     "execution_count": 20,
     "metadata": {},
     "output_type": "execute_result"
    }
   ],
   "source": [
    "x > y or a == b"
   ]
  },
  {
   "cell_type": "code",
   "execution_count": 23,
   "id": "c543483e-211a-4b10-9827-09d5fe716e1f",
   "metadata": {},
   "outputs": [
    {
     "data": {
      "text/plain": [
       "True"
      ]
     },
     "execution_count": 23,
     "metadata": {},
     "output_type": "execute_result"
    }
   ],
   "source": [
    "a != b"
   ]
  },
  {
   "cell_type": "code",
   "execution_count": 28,
   "id": "5172f19f-c150-41fb-9aa4-e2edc94b2da3",
   "metadata": {},
   "outputs": [
    {
     "name": "stdout",
     "output_type": "stream",
     "text": [
      "111\n"
     ]
    }
   ],
   "source": [
    "# If elif else\n",
    "x = 11\n",
    "y = 111\n",
    "if x > y:\n",
    "    print(x)\n",
    "elif y > x:\n",
    "    print(y)\n",
    "else:\n",
    "    print('Equal')\n",
    "    \n",
    "# Indentation matters"
   ]
  },
  {
   "cell_type": "code",
   "execution_count": 34,
   "id": "bf3921b9-8a70-466c-842a-6c3fc6aa388e",
   "metadata": {},
   "outputs": [
    {
     "name": "stdout",
     "output_type": "stream",
     "text": [
      "8\n"
     ]
    }
   ],
   "source": [
    "# Largest of three numbers\n",
    "x = 5\n",
    "y = 8\n",
    "z = 5\n",
    "\n",
    "if x >= y and x >= z:\n",
    "    print(x)\n",
    "elif y >= z and y >= x:\n",
    "    print(y)\n",
    "else:\n",
    "    print(z)"
   ]
  },
  {
   "cell_type": "markdown",
   "id": "51e4f344-b415-4d33-a157-6a447bbc8426",
   "metadata": {},
   "source": [
    "# Loops"
   ]
  },
  {
   "cell_type": "code",
   "execution_count": 42,
   "id": "e1ed9ad9-6172-42b4-83bb-8b410e9c6144",
   "metadata": {},
   "outputs": [
    {
     "name": "stdin",
     "output_type": "stream",
     "text": [
      " 13\n"
     ]
    },
    {
     "name": "stdout",
     "output_type": "stream",
     "text": [
      "0 1 2 3 4 5 6 7 8 9 10 11 12 \n",
      "why?\n"
     ]
    }
   ],
   "source": [
    "# While Loop\n",
    "n = int(input())\n",
    "i = 0\n",
    "while i < n:\n",
    "    print(i, end = \" \")\n",
    "    i += 1\n",
    "else:\n",
    "    print()\n",
    "    print('why?')"
   ]
  },
  {
   "cell_type": "code",
   "execution_count": 58,
   "id": "aff1cf24-0e0a-44f4-9539-95b2fd52a667",
   "metadata": {},
   "outputs": [
    {
     "name": "stdin",
     "output_type": "stream",
     "text": [
      " 10\n"
     ]
    },
    {
     "name": "stdout",
     "output_type": "stream",
     "text": [
      "5\n",
      "6\n",
      "7\n",
      "8\n",
      "9\n"
     ]
    }
   ],
   "source": [
    "# For Loop\n",
    "n = int(input())\n",
    "j = 0\n",
    "# print till n-1\n",
    "for j in range(5,n):\n",
    "    print(j)\n",
    "    j += 1"
   ]
  },
  {
   "cell_type": "code",
   "execution_count": 60,
   "id": "e809fd57-3ddc-4254-9170-8928ce2bc06f",
   "metadata": {},
   "outputs": [
    {
     "name": "stdin",
     "output_type": "stream",
     "text": [
      " 30\n"
     ]
    },
    {
     "name": "stdout",
     "output_type": "stream",
     "text": [
      "5\n",
      "10\n",
      "15\n",
      "20\n",
      "25\n"
     ]
    }
   ],
   "source": [
    "n = int(input())\n",
    "j = 0\n",
    "# print till n-1\n",
    "# range(start, end, step)\n",
    "for j in range(5,n,5):\n",
    "    print(j)\n",
    "    j += 1"
   ]
  },
  {
   "cell_type": "code",
   "execution_count": 73,
   "id": "1f2bd503-c4b5-41ce-b236-8d6d69e31c8a",
   "metadata": {},
   "outputs": [
    {
     "name": "stdin",
     "output_type": "stream",
     "text": [
      " 313\n"
     ]
    },
    {
     "name": "stdout",
     "output_type": "stream",
     "text": [
      "True\n"
     ]
    }
   ],
   "source": [
    "# Check for Prime Number\n",
    "\n",
    "n = int(input())\n",
    "isPrime = True\n",
    "for i in range(2, n):\n",
    "    if n % i == 0:\n",
    "        isPrime = False\n",
    "        break\n",
    "        \n",
    "        \n",
    "print(isPrime)"
   ]
  },
  {
   "cell_type": "code",
   "execution_count": 80,
   "id": "4d343641-e111-4f58-90ea-99cf7d5727e5",
   "metadata": {},
   "outputs": [
    {
     "name": "stdout",
     "output_type": "stream",
     "text": [
      "q w e r t y "
     ]
    }
   ],
   "source": [
    "# Fast Iteration\n",
    "# means just faster to write code\n",
    "s = 'qwerty'\n",
    "\n",
    "for c in s:\n",
    "    print(c, end = \" \")"
   ]
  },
  {
   "cell_type": "code",
   "execution_count": 81,
   "id": "970e43a9-5a9e-4133-a0f6-e4c6adf4e542",
   "metadata": {},
   "outputs": [
    {
     "name": "stdout",
     "output_type": "stream",
     "text": [
      "1 sde 53.2 5j "
     ]
    }
   ],
   "source": [
    "t = (1, 'sde', 53.2, 5j)\n",
    "\n",
    "for i in t:\n",
    "    print(i, end = \" \")"
   ]
  },
  {
   "cell_type": "code",
   "execution_count": 82,
   "id": "e545402e-c786-4b3f-9b94-0807369dcdc1",
   "metadata": {},
   "outputs": [
    {
     "name": "stdout",
     "output_type": "stream",
     "text": [
      "3 4 5 "
     ]
    }
   ],
   "source": [
    "# Exercise\n",
    "# find output\n",
    "\n",
    "a = 3\n",
    "for i in range(a):\n",
    "    print(a, end = \" \")\n",
    "    a += 1"
   ]
  },
  {
   "cell_type": "code",
   "execution_count": 86,
   "id": "b7618986-f518-4a5f-9cff-ab7e380b8bd8",
   "metadata": {},
   "outputs": [
    {
     "name": "stdout",
     "output_type": "stream",
     "text": [
      "a ABCD\n",
      "b ABCD\n",
      "c ABCD\n",
      "d ABCD\n"
     ]
    }
   ],
   "source": [
    "x = \"abcd\"\n",
    "\n",
    "for i in x:\n",
    "    print(i, end = \" \")\n",
    "    x = x.upper()\n",
    "    print(x)"
   ]
  },
  {
   "cell_type": "code",
   "execution_count": 87,
   "id": "9c8d0426-c03c-4f02-82fb-cb34f7361a17",
   "metadata": {},
   "outputs": [
    {
     "name": "stdout",
     "output_type": "stream",
     "text": [
      "abcd\n",
      "a\n",
      "a\n",
      "a\n"
     ]
    }
   ],
   "source": [
    "x = 'abcd'\n",
    "\n",
    "for i in range(len(x)):\n",
    "    print(x)\n",
    "    x = 'a'"
   ]
  }
 ],
 "metadata": {
  "kernelspec": {
   "display_name": "Python 3 (ipykernel)",
   "language": "python",
   "name": "python3"
  },
  "language_info": {
   "codemirror_mode": {
    "name": "ipython",
    "version": 3
   },
   "file_extension": ".py",
   "mimetype": "text/x-python",
   "name": "python",
   "nbconvert_exporter": "python",
   "pygments_lexer": "ipython3",
   "version": "3.9.12"
  }
 },
 "nbformat": 4,
 "nbformat_minor": 5
}
