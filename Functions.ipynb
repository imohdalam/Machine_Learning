{
 "cells": [
  {
   "cell_type": "code",
   "execution_count": 1,
   "id": "c3d3123f-9d8b-4c24-8cb3-363d29f5424d",
   "metadata": {},
   "outputs": [],
   "source": [
    "# Functions in python\n",
    "\n",
    "def suma(a, b = 1, c = 3):\n",
    "    return a+b+c"
   ]
  },
  {
   "cell_type": "code",
   "execution_count": 2,
   "id": "0f552736-eda7-4b7d-885a-70dc2b1a0faa",
   "metadata": {},
   "outputs": [
    {
     "data": {
      "text/plain": [
       "6"
      ]
     },
     "execution_count": 2,
     "metadata": {},
     "output_type": "execute_result"
    }
   ],
   "source": [
    "suma(5,-2)"
   ]
  },
  {
   "cell_type": "code",
   "execution_count": 3,
   "id": "cbeb0df3-1811-407f-8145-b7322df5e04f",
   "metadata": {},
   "outputs": [
    {
     "data": {
      "text/plain": [
       "9"
      ]
     },
     "execution_count": 3,
     "metadata": {},
     "output_type": "execute_result"
    }
   ],
   "source": [
    "suma(5)"
   ]
  },
  {
   "cell_type": "code",
   "execution_count": 4,
   "id": "ee599f26-bfd7-46b1-84aa-627dbf743fae",
   "metadata": {},
   "outputs": [
    {
     "data": {
      "text/plain": [
       "22"
      ]
     },
     "execution_count": 4,
     "metadata": {},
     "output_type": "execute_result"
    }
   ],
   "source": [
    "suma(5,8,9)"
   ]
  },
  {
   "cell_type": "code",
   "execution_count": 5,
   "id": "041788a7-a30e-4ca3-8f34-7811c45ef368",
   "metadata": {},
   "outputs": [],
   "source": [
    "def suma(a = 0, b = 1, c = 3):\n",
    "    return a+b+c"
   ]
  },
  {
   "cell_type": "code",
   "execution_count": 6,
   "id": "6396c3ac-77e7-4dac-b514-599ecbdbc580",
   "metadata": {},
   "outputs": [
    {
     "name": "stdout",
     "output_type": "stream",
     "text": [
      "Nothing!!!"
     ]
    }
   ],
   "source": [
    "suma(c=5) # Will use third and rest default values\n",
    "# Can send specific argument\n",
    "print('Nothing', end=\"!!!\")"
   ]
  },
  {
   "cell_type": "code",
   "execution_count": 7,
   "id": "c0cca7fe-9bf4-41a9-a316-573d417ddf55",
   "metadata": {},
   "outputs": [],
   "source": [
    "# Check for Prime Number\n",
    "\n",
    "def isPrime(n):\n",
    "    if n <= 1:\n",
    "        return False\n",
    "    for i in range(2, n):\n",
    "        if n % i == 0:\n",
    "            return False\n",
    "    return True"
   ]
  },
  {
   "cell_type": "code",
   "execution_count": 8,
   "id": "83345fac-3afb-4b08-997c-b7f71d1ade3a",
   "metadata": {},
   "outputs": [
    {
     "name": "stdout",
     "output_type": "stream",
     "text": [
      "False\n"
     ]
    }
   ],
   "source": [
    "print(isPrime(1))"
   ]
  },
  {
   "cell_type": "code",
   "execution_count": 9,
   "id": "7fac2850-98a4-4625-98b1-3992bb08797f",
   "metadata": {},
   "outputs": [],
   "source": [
    "# Power Function\n",
    "def power(x, y = 1): # take default value 1 if 2nd argument is not provided\n",
    "    ans = x\n",
    "    while y > 1 :\n",
    "        ans = ans * x\n",
    "        y = y - 1\n",
    "    return ans\n",
    "    "
   ]
  },
  {
   "cell_type": "code",
   "execution_count": 10,
   "id": "80d2420d-2b45-48ac-b04e-f308ed64bf30",
   "metadata": {},
   "outputs": [
    {
     "name": "stdout",
     "output_type": "stream",
     "text": [
      "32\n"
     ]
    }
   ],
   "source": [
    "print(power(2,5))"
   ]
  },
  {
   "cell_type": "code",
   "execution_count": 11,
   "id": "9dbd3c55-28aa-4ba5-8973-3bb6e79d4920",
   "metadata": {},
   "outputs": [],
   "source": [
    "# Variable number of inputs to a function\n",
    "def suma(a, b, *more): # extra arguments will become tuple\n",
    "    print(more)\n",
    "    print(type(more))\n",
    "    s = a + b\n",
    "    for i in more:\n",
    "        s = s + i\n",
    "    return s"
   ]
  },
  {
   "cell_type": "code",
   "execution_count": 12,
   "id": "94ef9559-7dad-4b83-a8b0-3d65900c59cc",
   "metadata": {},
   "outputs": [
    {
     "name": "stdout",
     "output_type": "stream",
     "text": [
      "(2, 1, 5)\n",
      "<class 'tuple'>\n"
     ]
    },
    {
     "data": {
      "text/plain": [
       "15"
      ]
     },
     "execution_count": 12,
     "metadata": {},
     "output_type": "execute_result"
    }
   ],
   "source": [
    "suma(4, 3, 2, 1, 5)"
   ]
  },
  {
   "cell_type": "code",
   "execution_count": 13,
   "id": "87249403-79ac-4a32-90c7-95dccff427be",
   "metadata": {},
   "outputs": [],
   "source": [
    "# Return more than one value\n",
    "# return sum, difference and product\n",
    "def summy(a, b):\n",
    "    return a+b, a-b, a*b # return a tuple"
   ]
  },
  {
   "cell_type": "code",
   "execution_count": 14,
   "id": "be17dcc1-3f68-41d5-b26c-edb780d32fa3",
   "metadata": {},
   "outputs": [
    {
     "data": {
      "text/plain": [
       "(9, 1, 20)"
      ]
     },
     "execution_count": 14,
     "metadata": {},
     "output_type": "execute_result"
    }
   ],
   "source": [
    "summy(5,4)"
   ]
  },
  {
   "cell_type": "code",
   "execution_count": 15,
   "id": "36a48379-7940-41e5-9f1b-30947368ff53",
   "metadata": {},
   "outputs": [],
   "source": [
    "a, b, c = summy(5,4) # store in different variable"
   ]
  },
  {
   "cell_type": "code",
   "execution_count": 16,
   "id": "2e6d9ec9-e140-497d-b868-380a4bcb35ba",
   "metadata": {},
   "outputs": [
    {
     "name": "stdout",
     "output_type": "stream",
     "text": [
      "9 1 20\n"
     ]
    }
   ],
   "source": [
    "print(a, b, c)"
   ]
  },
  {
   "cell_type": "code",
   "execution_count": 17,
   "id": "1ea7126f-b19c-4e2c-81ba-95e8bbae1b9f",
   "metadata": {},
   "outputs": [
    {
     "data": {
      "text/plain": [
       "(9, 1, 20)"
      ]
     },
     "execution_count": 17,
     "metadata": {},
     "output_type": "execute_result"
    }
   ],
   "source": [
    "a = summy(5,4) # a is tuple here\n",
    "a"
   ]
  },
  {
   "cell_type": "code",
   "execution_count": 18,
   "id": "e020dcc6-7976-47df-bb79-f46decd75ae8",
   "metadata": {},
   "outputs": [
    {
     "name": "stdout",
     "output_type": "stream",
     "text": [
      "20\n",
      "9\n",
      "1\n"
     ]
    }
   ],
   "source": [
    "a = summy(5, 4)[2] # Will return product\n",
    "b = summy(5,4)[0] # Will return sum\n",
    "c = summy(5,4)[1] # Will return difference\n",
    "print(a)\n",
    "print(b)\n",
    "print(c)"
   ]
  },
  {
   "cell_type": "code",
   "execution_count": null,
   "id": "cda0710b-6aca-4070-9ca7-49814ccd962c",
   "metadata": {},
   "outputs": [],
   "source": []
  }
 ],
 "metadata": {
  "kernelspec": {
   "display_name": "Python 3 (ipykernel)",
   "language": "python",
   "name": "python3"
  },
  "language_info": {
   "codemirror_mode": {
    "name": "ipython",
    "version": 3
   },
   "file_extension": ".py",
   "mimetype": "text/x-python",
   "name": "python",
   "nbconvert_exporter": "python",
   "pygments_lexer": "ipython3",
   "version": "3.9.12"
  }
 },
 "nbformat": 4,
 "nbformat_minor": 5
}
