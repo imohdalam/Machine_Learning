{
 "cells": [
  {
   "cell_type": "markdown",
   "id": "681413eb-89f4-4a2d-b66a-4444c60fc632",
   "metadata": {},
   "source": [
    "# List"
   ]
  },
  {
   "cell_type": "code",
   "execution_count": 1,
   "id": "e23f8e57-4848-49f6-b6e1-f7e118dab896",
   "metadata": {},
   "outputs": [
    {
     "data": {
      "text/plain": [
       "[1, 2, 3]"
      ]
     },
     "execution_count": 1,
     "metadata": {},
     "output_type": "execute_result"
    }
   ],
   "source": [
    "a = [1,2,3]\n",
    "a"
   ]
  },
  {
   "cell_type": "code",
   "execution_count": 2,
   "id": "4c91ba1b-d1ca-4cf7-9182-2edae80c4795",
   "metadata": {},
   "outputs": [
    {
     "data": {
      "text/plain": [
       "list"
      ]
     },
     "execution_count": 2,
     "metadata": {},
     "output_type": "execute_result"
    }
   ],
   "source": [
    "type(a)"
   ]
  },
  {
   "cell_type": "code",
   "execution_count": 3,
   "id": "3768e7af-c8ec-4aa4-ab9b-33bc57746f4c",
   "metadata": {},
   "outputs": [],
   "source": [
    "a1 = list()"
   ]
  },
  {
   "cell_type": "code",
   "execution_count": 4,
   "id": "7e45473f-a4c4-48d1-bc4f-eb2a926a250e",
   "metadata": {},
   "outputs": [],
   "source": [
    "a2 = list(a)"
   ]
  },
  {
   "cell_type": "code",
   "execution_count": 5,
   "id": "b62c508d-2442-4e67-8ae3-c10f038651df",
   "metadata": {},
   "outputs": [
    {
     "data": {
      "text/plain": [
       "[1, 2, 3]"
      ]
     },
     "execution_count": 5,
     "metadata": {},
     "output_type": "execute_result"
    }
   ],
   "source": [
    "a2"
   ]
  },
  {
   "cell_type": "code",
   "execution_count": 6,
   "id": "4b151f12-f4cc-4ee8-ae3d-8d77f13fb6ea",
   "metadata": {},
   "outputs": [
    {
     "data": {
      "text/plain": [
       "[0, 1, 4, 9, 16, 25, 36, 49, 64, 81]"
      ]
     },
     "execution_count": 6,
     "metadata": {},
     "output_type": "execute_result"
    }
   ],
   "source": [
    "a3 = [i*i for i in range(10)]\n",
    "a3"
   ]
  },
  {
   "cell_type": "code",
   "execution_count": 7,
   "id": "9635afd8-8c53-46c4-a5d0-549dffce1cd6",
   "metadata": {},
   "outputs": [
    {
     "data": {
      "text/plain": [
       "[5, 5.2, 'sde', (55+6j)]"
      ]
     },
     "execution_count": 7,
     "metadata": {},
     "output_type": "execute_result"
    }
   ],
   "source": [
    "a4 = [5, 5.2, 'sde', 55+6j]\n",
    "a4"
   ]
  },
  {
   "cell_type": "code",
   "execution_count": 8,
   "id": "19b08122-567f-409a-bcca-15fdbcd8e3dc",
   "metadata": {},
   "outputs": [
    {
     "data": {
      "text/plain": [
       "list"
      ]
     },
     "execution_count": 8,
     "metadata": {},
     "output_type": "execute_result"
    }
   ],
   "source": [
    "type(a4)"
   ]
  },
  {
   "cell_type": "code",
   "execution_count": 9,
   "id": "5720761b-de37-4628-80e3-5121a8344ffe",
   "metadata": {},
   "outputs": [
    {
     "data": {
      "text/plain": [
       "complex"
      ]
     },
     "execution_count": 9,
     "metadata": {},
     "output_type": "execute_result"
    }
   ],
   "source": [
    "type(a4[3])"
   ]
  },
  {
   "cell_type": "code",
   "execution_count": 10,
   "id": "8bfc7b37-18f9-4c2f-be7c-6931c844cfa4",
   "metadata": {},
   "outputs": [
    {
     "data": {
      "text/plain": [
       "'sde'"
      ]
     },
     "execution_count": 10,
     "metadata": {},
     "output_type": "execute_result"
    }
   ],
   "source": [
    "a4[-2]"
   ]
  },
  {
   "cell_type": "code",
   "execution_count": 11,
   "id": "efe71f67-eae4-4c77-9dd0-f12261d85e53",
   "metadata": {},
   "outputs": [
    {
     "data": {
      "text/plain": [
       "float"
      ]
     },
     "execution_count": 11,
     "metadata": {},
     "output_type": "execute_result"
    }
   ],
   "source": [
    "type(a4[-3])"
   ]
  },
  {
   "cell_type": "code",
   "execution_count": 12,
   "id": "f7d7a293-49a0-4961-90bb-45b0dc05a35e",
   "metadata": {},
   "outputs": [
    {
     "data": {
      "text/plain": [
       "['sde', (55+6j)]"
      ]
     },
     "execution_count": 12,
     "metadata": {},
     "output_type": "execute_result"
    }
   ],
   "source": [
    "a4[2:4]"
   ]
  },
  {
   "cell_type": "code",
   "execution_count": 13,
   "id": "35c4f817-c6d4-4e61-9093-ca746bc3aa4e",
   "metadata": {},
   "outputs": [
    {
     "data": {
      "text/plain": [
       "[int, float, str, complex]"
      ]
     },
     "execution_count": 13,
     "metadata": {},
     "output_type": "execute_result"
    }
   ],
   "source": [
    "a5 = [type(a4[i]) for i in range(len(a4))]\n",
    "a5"
   ]
  },
  {
   "cell_type": "code",
   "execution_count": 14,
   "id": "08d44aa0-b61e-4d08-9f7b-b622a3d65f72",
   "metadata": {},
   "outputs": [
    {
     "name": "stdout",
     "output_type": "stream",
     "text": [
      "<class 'int'>\n",
      "<class 'float'>\n",
      "<class 'str'>\n",
      "<class 'complex'>\n"
     ]
    }
   ],
   "source": [
    "for i in a5:\n",
    "    print(i)"
   ]
  },
  {
   "cell_type": "code",
   "execution_count": 15,
   "id": "d9e16ac5-5ec5-4f49-a686-254b4fc93844",
   "metadata": {},
   "outputs": [
    {
     "name": "stdin",
     "output_type": "stream",
     "text": [
      "  56  3 5 6 5 \n"
     ]
    },
    {
     "data": {
      "text/plain": [
       "['', '56', '', '3', '5', '6', '5', '']"
      ]
     },
     "execution_count": 15,
     "metadata": {},
     "output_type": "execute_result"
    }
   ],
   "source": [
    "data = input()\n",
    "a6 = data.split(\" \")\n",
    "a6"
   ]
  },
  {
   "cell_type": "code",
   "execution_count": 16,
   "id": "c1bd9021-ce1b-4fd8-a238-e0bff42f573c",
   "metadata": {},
   "outputs": [
    {
     "name": "stdin",
     "output_type": "stream",
     "text": [
      "  3 56 543 5  \n"
     ]
    },
    {
     "data": {
      "text/plain": [
       "['3', '56', '543', '5']"
      ]
     },
     "execution_count": 16,
     "metadata": {},
     "output_type": "execute_result"
    }
   ],
   "source": [
    "data = input().strip()\n",
    "a7 = data.split(\" \")\n",
    "a7"
   ]
  },
  {
   "cell_type": "code",
   "execution_count": 17,
   "id": "94cd6ebc-0d4e-40a9-8c75-960a177ec0f4",
   "metadata": {},
   "outputs": [
    {
     "data": {
      "text/plain": [
       "[3, 56, 543, 5]"
      ]
     },
     "execution_count": 17,
     "metadata": {},
     "output_type": "execute_result"
    }
   ],
   "source": [
    "for i in range(len(a7)):\n",
    "    a7[i] = int(a7[i])\n",
    "a7"
   ]
  },
  {
   "cell_type": "code",
   "execution_count": 18,
   "id": "006b0b14-0844-4eb2-b431-586f95b22e3d",
   "metadata": {},
   "outputs": [
    {
     "name": "stdin",
     "output_type": "stream",
     "text": [
      " 5 3 2 1 3 \n"
     ]
    },
    {
     "data": {
      "text/plain": [
       "[5, 3, 2, 1, 3]"
      ]
     },
     "execution_count": 18,
     "metadata": {},
     "output_type": "execute_result"
    }
   ],
   "source": [
    "a8 = [int(x) for x in input().strip().split()]\n",
    "a8"
   ]
  },
  {
   "cell_type": "code",
   "execution_count": 19,
   "id": "2f1bcc0c-d1f9-4475-b69c-1be04f93cd91",
   "metadata": {},
   "outputs": [
    {
     "data": {
      "text/plain": [
       "['q', 'w', 'e', 'r', 't', 'y']"
      ]
     },
     "execution_count": 19,
     "metadata": {},
     "output_type": "execute_result"
    }
   ],
   "source": [
    "a9 = list(\"qwerty\")\n",
    "a9"
   ]
  },
  {
   "cell_type": "code",
   "execution_count": 20,
   "id": "7cdbe029-928a-4bf5-a8ef-d1e51e14dfac",
   "metadata": {},
   "outputs": [
    {
     "data": {
      "text/plain": [
       "['q', 'w', 'e', 'r', 't', 'y', 'u']"
      ]
     },
     "execution_count": 20,
     "metadata": {},
     "output_type": "execute_result"
    }
   ],
   "source": [
    "a9.append('u')\n",
    "a9"
   ]
  },
  {
   "cell_type": "code",
   "execution_count": 21,
   "id": "2e62a5ef-c43f-4afc-9a9a-73e2cb901189",
   "metadata": {},
   "outputs": [
    {
     "data": {
      "text/plain": [
       "['q', 'w', 'e', 'A', 'r', 't', 'y', 'u']"
      ]
     },
     "execution_count": 21,
     "metadata": {},
     "output_type": "execute_result"
    }
   ],
   "source": [
    "a9.insert(3,\"A\")\n",
    "a9"
   ]
  },
  {
   "cell_type": "code",
   "execution_count": 22,
   "id": "04db27dd-3516-4747-ba53-66b1a591c24f",
   "metadata": {},
   "outputs": [
    {
     "data": {
      "text/plain": [
       "[2, 8, 'p']"
      ]
     },
     "execution_count": 22,
     "metadata": {},
     "output_type": "execute_result"
    }
   ],
   "source": [
    "a10 = [2, 8, 'p']\n",
    "a10"
   ]
  },
  {
   "cell_type": "code",
   "execution_count": 23,
   "id": "f55c744d-925c-4bf5-aa91-26e8ab476ae9",
   "metadata": {},
   "outputs": [
    {
     "data": {
      "text/plain": [
       "[2, 8, 'p', 'q', 'w', 'e', 'A', 'r', 't', 'y', 'u']"
      ]
     },
     "execution_count": 23,
     "metadata": {},
     "output_type": "execute_result"
    }
   ],
   "source": [
    "a10.extend(a9)\n",
    "a10"
   ]
  },
  {
   "cell_type": "code",
   "execution_count": 24,
   "id": "de684e8a-ee51-486c-ae9d-d411733faf4c",
   "metadata": {},
   "outputs": [
    {
     "data": {
      "text/plain": [
       "[2, 8, 'p', 'q', 'w', 'e', 'A', 'r', 't', 'y']"
      ]
     },
     "execution_count": 24,
     "metadata": {},
     "output_type": "execute_result"
    }
   ],
   "source": [
    "a10.pop()\n",
    "a10"
   ]
  },
  {
   "cell_type": "code",
   "execution_count": 25,
   "id": "1023c398-9b0d-4d93-9480-8666942eb807",
   "metadata": {},
   "outputs": [
    {
     "data": {
      "text/plain": [
       "[8, 'p', 'q', 'w', 'e', 'A', 'r', 't', 'y']"
      ]
     },
     "execution_count": 25,
     "metadata": {},
     "output_type": "execute_result"
    }
   ],
   "source": [
    "a10.pop(0)\n",
    "a10"
   ]
  },
  {
   "cell_type": "code",
   "execution_count": 26,
   "id": "9b955b69-73cf-4a70-a460-476f2f4164c7",
   "metadata": {},
   "outputs": [
    {
     "data": {
      "text/plain": [
       "[8, 'p', 'q', 'w', 'e', 'r', 't', 'y']"
      ]
     },
     "execution_count": 26,
     "metadata": {},
     "output_type": "execute_result"
    }
   ],
   "source": [
    "a10.pop(5)\n",
    "a10"
   ]
  },
  {
   "cell_type": "code",
   "execution_count": 27,
   "id": "405a9e27-b366-41e0-85c6-345bcfe38bd4",
   "metadata": {},
   "outputs": [
    {
     "data": {
      "text/plain": [
       "['p', 'q', 'w', 'e', 'r', 't', 'y']"
      ]
     },
     "execution_count": 27,
     "metadata": {},
     "output_type": "execute_result"
    }
   ],
   "source": [
    "a10.remove(8)\n",
    "a10"
   ]
  },
  {
   "cell_type": "code",
   "execution_count": 28,
   "id": "547792ad-618e-4d04-8cb4-ed3fb8efc1d2",
   "metadata": {},
   "outputs": [
    {
     "data": {
      "text/plain": [
       "['q', 'w', 'e', 'r', 't', 'y']"
      ]
     },
     "execution_count": 28,
     "metadata": {},
     "output_type": "execute_result"
    }
   ],
   "source": [
    "del a10[0]\n",
    "a10    "
   ]
  },
  {
   "cell_type": "code",
   "execution_count": 39,
   "id": "cd355a43-96ff-48a7-85bf-9fb20c16d35d",
   "metadata": {},
   "outputs": [
    {
     "data": {
      "text/plain": [
       "['q', 'w', 'e']"
      ]
     },
     "execution_count": 39,
     "metadata": {},
     "output_type": "execute_result"
    }
   ],
   "source": [
    "del a10[3:5]\n",
    "a10"
   ]
  },
  {
   "cell_type": "code",
   "execution_count": 40,
   "id": "5578d199-21ff-4054-a9a3-a251502b6a59",
   "metadata": {},
   "outputs": [
    {
     "data": {
      "text/plain": [
       "['q', 'w', 'e', 'q', 'w', 'e']"
      ]
     },
     "execution_count": 40,
     "metadata": {},
     "output_type": "execute_result"
    }
   ],
   "source": [
    "a10 = a10 + a10\n",
    "a10"
   ]
  },
  {
   "cell_type": "code",
   "execution_count": 41,
   "id": "fee6af66-2f85-425f-b8ee-2f9e43412eab",
   "metadata": {},
   "outputs": [
    {
     "data": {
      "text/plain": [
       "['q', 'w', 'e', 'q', 'w', 'e', 'q', 'w', 'e', 'q', 'w', 'e']"
      ]
     },
     "execution_count": 41,
     "metadata": {},
     "output_type": "execute_result"
    }
   ],
   "source": [
    "a10 = a10*2\n",
    "a10"
   ]
  },
  {
   "cell_type": "code",
   "execution_count": 101,
   "id": "f7f38ada-c804-4ae6-81dd-356501f49245",
   "metadata": {},
   "outputs": [
    {
     "data": {
      "text/plain": [
       "[0, 3, 5, 5, 7, 8, 9]"
      ]
     },
     "execution_count": 101,
     "metadata": {},
     "output_type": "execute_result"
    }
   ],
   "source": [
    "import numpy as np\n",
    "import pandas as pd\n",
    "a11 = [5,8,9,3,0,7,5]\n",
    "a11.sort()\n",
    "a11"
   ]
  },
  {
   "cell_type": "code",
   "execution_count": 102,
   "id": "31a1f463-3ae0-42ce-8109-5e6df61d2ab8",
   "metadata": {},
   "outputs": [
    {
     "data": {
      "text/plain": [
       "list"
      ]
     },
     "execution_count": 102,
     "metadata": {},
     "output_type": "execute_result"
    }
   ],
   "source": [
    "a11.count(5)\n",
    "type(a11)"
   ]
  },
  {
   "cell_type": "code",
   "execution_count": 103,
   "id": "2cb47699-dc7a-45ee-ba5d-086d6500a96b",
   "metadata": {},
   "outputs": [
    {
     "data": {
      "text/plain": [
       "0"
      ]
     },
     "execution_count": 103,
     "metadata": {},
     "output_type": "execute_result"
    }
   ],
   "source": [
    "a11.count(11)"
   ]
  },
  {
   "cell_type": "code",
   "execution_count": 104,
   "id": "1c90b726-68ef-4af5-bc63-ce05b8cb2bde",
   "metadata": {},
   "outputs": [
    {
     "data": {
      "text/plain": [
       "list"
      ]
     },
     "execution_count": 104,
     "metadata": {},
     "output_type": "execute_result"
    }
   ],
   "source": [
    "a11.index(9)\n",
    "type(a11)"
   ]
  },
  {
   "cell_type": "code",
   "execution_count": 105,
   "id": "bb25ea4b-2ed6-4c53-b366-08cab0aa9bce",
   "metadata": {},
   "outputs": [
    {
     "data": {
      "text/plain": [
       "[9, 8, 7, 5, 5, 3, 0]"
      ]
     },
     "execution_count": 105,
     "metadata": {},
     "output_type": "execute_result"
    }
   ],
   "source": [
    "a11.reverse()\n",
    "a11"
   ]
  },
  {
   "cell_type": "code",
   "execution_count": 106,
   "id": "a6ba377c-c5e8-4ad4-bdd1-7c13724d203e",
   "metadata": {},
   "outputs": [
    {
     "data": {
      "text/plain": [
       "False"
      ]
     },
     "execution_count": 106,
     "metadata": {},
     "output_type": "execute_result"
    }
   ],
   "source": [
    "11 in a11"
   ]
  },
  {
   "cell_type": "code",
   "execution_count": 107,
   "id": "cf8f0258-168a-4a3d-9f53-c4ab92cbd5d6",
   "metadata": {},
   "outputs": [
    {
     "data": {
      "text/plain": [
       "True"
      ]
     },
     "execution_count": 107,
     "metadata": {},
     "output_type": "execute_result"
    }
   ],
   "source": [
    "0 in a11"
   ]
  }
 ],
 "metadata": {
  "kernelspec": {
   "display_name": "Python 3 (ipykernel)",
   "language": "python",
   "name": "python3"
  },
  "language_info": {
   "codemirror_mode": {
    "name": "ipython",
    "version": 3
   },
   "file_extension": ".py",
   "mimetype": "text/x-python",
   "name": "python",
   "nbconvert_exporter": "python",
   "pygments_lexer": "ipython3",
   "version": "3.9.12"
  }
 },
 "nbformat": 4,
 "nbformat_minor": 5
}
