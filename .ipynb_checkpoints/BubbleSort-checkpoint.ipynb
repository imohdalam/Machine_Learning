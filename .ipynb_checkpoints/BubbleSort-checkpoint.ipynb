{
 "cells": [
  {
   "cell_type": "markdown",
   "id": "f441afaa-f938-431f-a59b-79cb3f786735",
   "metadata": {},
   "source": [
    "# ***Bubble Sort***"
   ]
  },
  {
   "cell_type": "code",
   "execution_count": 11,
   "id": "943d6833-1878-42c9-b747-75782357048a",
   "metadata": {},
   "outputs": [],
   "source": [
    "def bubbleSort(l):\n",
    "    n = len(l)\n",
    "    for j in range(0, n-1):\n",
    "        for i in range(0, n-1-j):\n",
    "            if(l[i] > l[i+1]):\n",
    "                l[i] = l[i]^l[i+1]\n",
    "                l[i+1] = l[i]^l[i+1]\n",
    "                l[i] = l[i]^l[i+1]\n",
    "    return l"
   ]
  },
  {
   "cell_type": "code",
   "execution_count": 14,
   "id": "18ce3f3d-40bb-4c5a-8ef3-3cf7b1e12597",
   "metadata": {},
   "outputs": [
    {
     "name": "stdout",
     "output_type": "stream",
     "text": [
      "[2, 3, 5, 6, 8, 11]\n"
     ]
    }
   ],
   "source": [
    "l = [3,2,11,6,5,8]\n",
    "print(bubbleSort(l))"
   ]
  },
  {
   "cell_type": "code",
   "execution_count": null,
   "id": "bf08d54a-7114-4eb9-b596-061f1e062ff2",
   "metadata": {},
   "outputs": [],
   "source": []
  }
 ],
 "metadata": {
  "kernelspec": {
   "display_name": "Python 3 (ipykernel)",
   "language": "python",
   "name": "python3"
  },
  "language_info": {
   "codemirror_mode": {
    "name": "ipython",
    "version": 3
   },
   "file_extension": ".py",
   "mimetype": "text/x-python",
   "name": "python",
   "nbconvert_exporter": "python",
   "pygments_lexer": "ipython3",
   "version": "3.9.12"
  }
 },
 "nbformat": 4,
 "nbformat_minor": 5
}
