{
 "cells": [
  {
   "cell_type": "markdown",
   "id": "cd70d158-a924-44a3-8a74-6db2a231e059",
   "metadata": {},
   "source": [
    "## Introduction to python"
   ]
  },
  {
   "cell_type": "code",
   "execution_count": 1,
   "id": "a866ce95-27d9-4134-9281-8b086bcb709b",
   "metadata": {},
   "outputs": [
    {
     "name": "stdout",
     "output_type": "stream",
     "text": [
      "100,101\n",
      "102\n"
     ]
    },
    {
     "data": {
      "text/plain": [
       "100"
      ]
     },
     "execution_count": 1,
     "metadata": {},
     "output_type": "execute_result"
    }
   ],
   "source": [
    "# print function\n",
    "a = 100\n",
    "# If end is not mentioned then it will take new line\n",
    "print(a, end=\",\")\n",
    "print(a+1)\n",
    "print(a+2)\n",
    "# Output is just a, Actually the output of last line\n",
    "a"
   ]
  },
  {
   "cell_type": "code",
   "execution_count": 2,
   "id": "e8318bc4-48b4-464e-bb7f-515858d75926",
   "metadata": {},
   "outputs": [
    {
     "name": "stdout",
     "output_type": "stream",
     "text": [
      "<class 'int'>\n",
      "<class 'float'>\n",
      "<class 'complex'>\n",
      "<class 'str'>\n"
     ]
    }
   ],
   "source": [
    "# To check the type of a Variable\n",
    "print(type(a))\n",
    "a = 4.5\n",
    "print(type(a))\n",
    "a = 5 + 3j\n",
    "print(type(a))\n",
    "a = \"I'm string\"\n",
    "print(type(a))"
   ]
  },
  {
   "cell_type": "code",
   "execution_count": 3,
   "id": "196dfe0d-0161-4948-8e0c-ff41a29814da",
   "metadata": {},
   "outputs": [
    {
     "name": "stdout",
     "output_type": "stream",
     "text": [
      "25\n"
     ]
    }
   ],
   "source": [
    "# Operator\n",
    "\n",
    "a = 12\n",
    "b = 13\n",
    "# Addition\n",
    "c = a + b\n",
    "print(c)"
   ]
  },
  {
   "cell_type": "code",
   "execution_count": 4,
   "id": "a13ddf63-4517-47de-87e3-5f8970b167c4",
   "metadata": {},
   "outputs": [
    {
     "name": "stdout",
     "output_type": "stream",
     "text": [
      "-1\n"
     ]
    }
   ],
   "source": [
    "# Subtraction\n",
    "d = a - b\n",
    "print(d)"
   ]
  },
  {
   "cell_type": "code",
   "execution_count": 5,
   "id": "a75e91d3-3904-4ea5-81fa-fb29e8502cb4",
   "metadata": {},
   "outputs": [
    {
     "name": "stdout",
     "output_type": "stream",
     "text": [
      "156\n"
     ]
    }
   ],
   "source": [
    "# Multiplication\n",
    "e = a * b\n",
    "print(e)"
   ]
  },
  {
   "cell_type": "code",
   "execution_count": 6,
   "id": "facbe95f-266b-442e-bf63-b217063e7c52",
   "metadata": {},
   "outputs": [
    {
     "data": {
      "text/plain": [
       "0.9230769230769231"
      ]
     },
     "execution_count": 6,
     "metadata": {},
     "output_type": "execute_result"
    }
   ],
   "source": [
    "# Decimal division\n",
    "f = a / b\n",
    "f"
   ]
  },
  {
   "cell_type": "code",
   "execution_count": 7,
   "id": "d0c2cd01-ef5b-43ae-b541-3871f2a98624",
   "metadata": {},
   "outputs": [
    {
     "data": {
      "text/plain": [
       "0"
      ]
     },
     "execution_count": 7,
     "metadata": {},
     "output_type": "execute_result"
    }
   ],
   "source": [
    "# Integer division\n",
    "g = a // b\n",
    "g"
   ]
  },
  {
   "cell_type": "code",
   "execution_count": 8,
   "id": "582f63da-ce12-4685-87bc-b810e4dd7925",
   "metadata": {},
   "outputs": [
    {
     "data": {
      "text/plain": [
       "106993205379072"
      ]
     },
     "execution_count": 8,
     "metadata": {},
     "output_type": "execute_result"
    }
   ],
   "source": [
    "# Exponential\n",
    "h = a ** b\n",
    "h"
   ]
  },
  {
   "cell_type": "code",
   "execution_count": 9,
   "id": "768b2a9b-ac8a-4132-8c4c-75dc0301cf05",
   "metadata": {},
   "outputs": [
    {
     "data": {
      "text/plain": [
       "12"
      ]
     },
     "execution_count": 9,
     "metadata": {},
     "output_type": "execute_result"
    }
   ],
   "source": [
    "# Modulo\n",
    "i = a % b\n",
    "i"
   ]
  },
  {
   "cell_type": "code",
   "execution_count": 10,
   "id": "3a0f0ff2-fe6b-465b-a50f-ec4de8cf96f5",
   "metadata": {},
   "outputs": [
    {
     "name": "stdout",
     "output_type": "stream",
     "text": [
      "Who are you? I am you\n"
     ]
    }
   ],
   "source": [
    "# String\n",
    "# No concept of character\n",
    "a = \"Who are you? \" # string\n",
    "b = 'I am you' # string\n",
    "ch = 'A' # string\n",
    "dh = \"C\" # string\n",
    "\n",
    "c = a + b\n",
    "print(c)"
   ]
  },
  {
   "cell_type": "code",
   "execution_count": 11,
   "id": "c6882f96-b262-4768-878f-8374ad1271a7",
   "metadata": {},
   "outputs": [
    {
     "data": {
      "text/plain": [
       "str"
      ]
     },
     "execution_count": 11,
     "metadata": {},
     "output_type": "execute_result"
    }
   ],
   "source": [
    "type(c)"
   ]
  },
  {
   "cell_type": "code",
   "execution_count": 12,
   "id": "bea6c5e6-648f-4f42-ac65-f01730c1febe",
   "metadata": {},
   "outputs": [
    {
     "data": {
      "text/plain": [
       "13"
      ]
     },
     "execution_count": 12,
     "metadata": {},
     "output_type": "execute_result"
    }
   ],
   "source": [
    "len(a)"
   ]
  },
  {
   "cell_type": "code",
   "execution_count": 13,
   "id": "e01593eb-7a32-4de1-94e9-38283c1f5531",
   "metadata": {},
   "outputs": [
    {
     "data": {
      "text/plain": [
       "8"
      ]
     },
     "execution_count": 13,
     "metadata": {},
     "output_type": "execute_result"
    }
   ],
   "source": [
    "len(b)"
   ]
  },
  {
   "cell_type": "code",
   "execution_count": 14,
   "id": "bc535974-2a69-4344-9fa4-b0d9d790eee6",
   "metadata": {},
   "outputs": [
    {
     "data": {
      "text/plain": [
       "21"
      ]
     },
     "execution_count": 14,
     "metadata": {},
     "output_type": "execute_result"
    }
   ],
   "source": [
    "len(c)"
   ]
  },
  {
   "cell_type": "code",
   "execution_count": 15,
   "id": "239ac8a1-ac6f-4c99-a988-7b59d54be44a",
   "metadata": {},
   "outputs": [],
   "source": [
    "# Can not concatinate String with Integer\n",
    " # c + 2 "
   ]
  },
  {
   "cell_type": "code",
   "execution_count": 16,
   "id": "3b446ec2-2866-413c-bb54-e23038e0642d",
   "metadata": {},
   "outputs": [],
   "source": [
    "# String is immutable\n",
    "# c[4] = 'd'"
   ]
  },
  {
   "cell_type": "code",
   "execution_count": 17,
   "id": "1817fc36-d85f-463b-81ca-e1a9f1ae9b52",
   "metadata": {},
   "outputs": [
    {
     "data": {
      "text/plain": [
       "'?'"
      ]
     },
     "execution_count": 17,
     "metadata": {},
     "output_type": "execute_result"
    }
   ],
   "source": [
    "# Access specific index value\n",
    "c[11]"
   ]
  },
  {
   "cell_type": "code",
   "execution_count": 18,
   "id": "d0be863e-92fe-4fa4-a647-b7f7335abef2",
   "metadata": {},
   "outputs": [],
   "source": [
    "d = \"Where is the begining?\""
   ]
  },
  {
   "cell_type": "code",
   "execution_count": 19,
   "id": "8538ba19-8568-40b4-8831-84ad0d0a4491",
   "metadata": {},
   "outputs": [],
   "source": [
    "# Changing the string reference\n",
    "c = d"
   ]
  },
  {
   "cell_type": "code",
   "execution_count": 20,
   "id": "34e575aa-5b47-4279-9280-250194dd636b",
   "metadata": {},
   "outputs": [
    {
     "name": "stdout",
     "output_type": "stream",
     "text": [
      "Where is the begining?\n"
     ]
    }
   ],
   "source": [
    "print(c)"
   ]
  },
  {
   "cell_type": "code",
   "execution_count": 21,
   "id": "7501a408-cc61-492c-8583-f7e52ba2d041",
   "metadata": {},
   "outputs": [
    {
     "data": {
      "text/plain": [
       "'WHERE IS THE BEGINING?'"
      ]
     },
     "execution_count": 21,
     "metadata": {},
     "output_type": "execute_result"
    }
   ],
   "source": [
    "# Created new string in Uppercase and return\n",
    "c.upper()"
   ]
  },
  {
   "cell_type": "code",
   "execution_count": 22,
   "id": "45a7fd1c-3b06-4fcd-83f0-130efe79a110",
   "metadata": {},
   "outputs": [
    {
     "data": {
      "text/plain": [
       "'Where is the begining?'"
      ]
     },
     "execution_count": 22,
     "metadata": {},
     "output_type": "execute_result"
    }
   ],
   "source": [
    "# checking...\n",
    "c"
   ]
  },
  {
   "cell_type": "code",
   "execution_count": 23,
   "id": "78008c8d-20fb-455e-8124-745859dd7605",
   "metadata": {},
   "outputs": [
    {
     "data": {
      "text/plain": [
       "'WHERE IS THE BEGINING?'"
      ]
     },
     "execution_count": 23,
     "metadata": {},
     "output_type": "execute_result"
    }
   ],
   "source": [
    "# Converted to uppercase\n",
    "c = c.upper()\n",
    "c"
   ]
  },
  {
   "cell_type": "code",
   "execution_count": 24,
   "id": "77b93c41-9f76-4ded-b0fe-bdd39cd7b3c7",
   "metadata": {},
   "outputs": [
    {
     "data": {
      "text/plain": [
       "'where is the begining?'"
      ]
     },
     "execution_count": 24,
     "metadata": {},
     "output_type": "execute_result"
    }
   ],
   "source": [
    "# Created a new string in lowercase and return\n",
    "c.lower()"
   ]
  },
  {
   "cell_type": "code",
   "execution_count": 25,
   "id": "24648c98-87ad-4e0d-affa-b95549aca2ef",
   "metadata": {},
   "outputs": [
    {
     "data": {
      "text/plain": [
       "'WHERE IS THE BEGINING?'"
      ]
     },
     "execution_count": 25,
     "metadata": {},
     "output_type": "execute_result"
    }
   ],
   "source": [
    "# Checking\n",
    "c"
   ]
  },
  {
   "cell_type": "code",
   "execution_count": 26,
   "id": "ee065639-01c2-4fa4-acce-d34160058b70",
   "metadata": {},
   "outputs": [
    {
     "data": {
      "text/plain": [
       "'where is the begining?'"
      ]
     },
     "execution_count": 26,
     "metadata": {},
     "output_type": "execute_result"
    }
   ],
   "source": [
    "# Converted to lowercase\n",
    "c = c.lower()\n",
    "c"
   ]
  },
  {
   "cell_type": "code",
   "execution_count": 27,
   "id": "a77bf982-2981-419d-b747-38035bed73f2",
   "metadata": {},
   "outputs": [
    {
     "data": {
      "text/plain": [
       "'I am space'"
      ]
     },
     "execution_count": 27,
     "metadata": {},
     "output_type": "execute_result"
    }
   ],
   "source": [
    "Q = \"  I am space  \"\n",
    "# Remove space from both side\n",
    "Q.strip()"
   ]
  },
  {
   "cell_type": "code",
   "execution_count": 28,
   "id": "9738e7c5-873a-41de-8493-3f7a3a12e3a8",
   "metadata": {},
   "outputs": [
    {
     "data": {
      "text/plain": [
       "'I am space  '"
      ]
     },
     "execution_count": 28,
     "metadata": {},
     "output_type": "execute_result"
    }
   ],
   "source": [
    "# Remove space from left side\n",
    "Q.lstrip()"
   ]
  },
  {
   "cell_type": "code",
   "execution_count": 29,
   "id": "4bd0fac0-9e0b-44c1-bcec-f31f103d65c4",
   "metadata": {},
   "outputs": [
    {
     "data": {
      "text/plain": [
       "'  I am space'"
      ]
     },
     "execution_count": 29,
     "metadata": {},
     "output_type": "execute_result"
    }
   ],
   "source": [
    "# Remove space from right side\n",
    "Q.rstrip()"
   ]
  },
  {
   "cell_type": "code",
   "execution_count": 30,
   "id": "5ca8176d-6b6d-4c62-8fa6-ac0b7d6b9422",
   "metadata": {},
   "outputs": [
    {
     "name": "stdout",
     "output_type": "stream",
     "text": [
      "False\n"
     ]
    }
   ],
   "source": [
    "# Checking for Alphabets\n",
    "Alpha = \"I am alphabet\"\n",
    "print(Alpha.isalpha())\n",
    "# False because it contains spaces too"
   ]
  },
  {
   "cell_type": "code",
   "execution_count": 31,
   "id": "a910cb5c-f66d-4d30-91ad-a1900e89de0f",
   "metadata": {},
   "outputs": [
    {
     "name": "stdout",
     "output_type": "stream",
     "text": [
      "True\n"
     ]
    }
   ],
   "source": [
    "# Having no space\n",
    "Beta = \"NoMoreSpace\"\n",
    "print(Beta.isalpha())"
   ]
  },
  {
   "cell_type": "code",
   "execution_count": 32,
   "id": "f04c9553-a217-4d00-9c2e-b90686576594",
   "metadata": {},
   "outputs": [
    {
     "name": "stdin",
     "output_type": "stream",
     "text": [
      " 123\n"
     ]
    },
    {
     "name": "stdout",
     "output_type": "stream",
     "text": [
      "123\n",
      "<class 'str'>\n"
     ]
    }
   ],
   "source": [
    "# User Input\n",
    "s = input()\n",
    "print(s)\n",
    "print(type(s))\n",
    "# Input function return String always"
   ]
  },
  {
   "cell_type": "code",
   "execution_count": 33,
   "id": "3727e0d7-0949-4238-a85c-a69d78c510d2",
   "metadata": {},
   "outputs": [
    {
     "name": "stdin",
     "output_type": "stream",
     "text": [
      " 3+4j\n"
     ]
    },
    {
     "name": "stdout",
     "output_type": "stream",
     "text": [
      "(3+4j)\n",
      "<class 'complex'>\n"
     ]
    }
   ],
   "source": [
    "# Type casting \n",
    "I = complex(input())\n",
    "print(I)\n",
    "print(type(I))"
   ]
  },
  {
   "cell_type": "code",
   "execution_count": 34,
   "id": "431cef37-122e-41fd-bc30-e3af52841214",
   "metadata": {},
   "outputs": [
    {
     "name": "stdin",
     "output_type": "stream",
     "text": [
      " 5\n"
     ]
    },
    {
     "name": "stdout",
     "output_type": "stream",
     "text": [
      "5.0\n",
      "<class 'float'>\n"
     ]
    }
   ],
   "source": [
    "I = float(input())\n",
    "print(I)\n",
    "print(type(I))"
   ]
  },
  {
   "cell_type": "code",
   "execution_count": 36,
   "id": "af8877ee-4bfe-45d8-8c77-87d7168d96af",
   "metadata": {},
   "outputs": [
    {
     "name": "stdin",
     "output_type": "stream",
     "text": [
      " 36\n"
     ]
    },
    {
     "name": "stdout",
     "output_type": "stream",
     "text": [
      "36\n",
      "<class 'int'>\n"
     ]
    }
   ],
   "source": [
    "I = int(input())\n",
    "print(I)\n",
    "print(type(I))"
   ]
  },
  {
   "cell_type": "code",
   "execution_count": 37,
   "id": "4de79a3d-4cef-4e57-bade-47a0272de182",
   "metadata": {},
   "outputs": [
    {
     "data": {
      "text/plain": [
       "'time'"
      ]
     },
     "execution_count": 37,
     "metadata": {},
     "output_type": "execute_result"
    }
   ],
   "source": [
    "# String Slicing\n",
    "a = \"No time at all\"\n",
    "a[2:-6].strip()"
   ]
  },
  {
   "cell_type": "code",
   "execution_count": 38,
   "id": "24933600-9942-4b4e-87a0-4fda021fe49d",
   "metadata": {},
   "outputs": [
    {
     "data": {
      "text/plain": [
       "14"
      ]
     },
     "execution_count": 38,
     "metadata": {},
     "output_type": "execute_result"
    }
   ],
   "source": [
    "n = len(a)\n",
    "n"
   ]
  },
  {
   "cell_type": "code",
   "execution_count": 39,
   "id": "33b4ba5c-9fe6-4920-9c1e-c9b1540e3bbf",
   "metadata": {},
   "outputs": [
    {
     "data": {
      "text/plain": [
       "'N'"
      ]
     },
     "execution_count": 39,
     "metadata": {},
     "output_type": "execute_result"
    }
   ],
   "source": [
    "# Indexing\n",
    "a[-14]"
   ]
  },
  {
   "cell_type": "code",
   "execution_count": 40,
   "id": "4a1d5569-d2ea-416b-9ad5-b1fe68433973",
   "metadata": {},
   "outputs": [
    {
     "data": {
      "text/plain": [
       "'l'"
      ]
     },
     "execution_count": 40,
     "metadata": {},
     "output_type": "execute_result"
    }
   ],
   "source": [
    "a[-1]"
   ]
  },
  {
   "cell_type": "code",
   "execution_count": 41,
   "id": "bf2bfbb8-542d-4b1d-843b-634122500ed9",
   "metadata": {},
   "outputs": [
    {
     "data": {
      "text/plain": [
       "'all'"
      ]
     },
     "execution_count": 41,
     "metadata": {},
     "output_type": "execute_result"
    }
   ],
   "source": [
    "a[-3:]"
   ]
  },
  {
   "cell_type": "code",
   "execution_count": 42,
   "id": "01cab4db-1cc8-4bee-8172-6bbe466c0e80",
   "metadata": {},
   "outputs": [
    {
     "data": {
      "text/plain": [
       "'al'"
      ]
     },
     "execution_count": 42,
     "metadata": {},
     "output_type": "execute_result"
    }
   ],
   "source": [
    "a[-3:-1] # do not including last index"
   ]
  },
  {
   "cell_type": "code",
   "execution_count": 43,
   "id": "8505cce0-4287-4aec-b93a-74113f621f4d",
   "metadata": {},
   "outputs": [
    {
     "data": {
      "text/plain": [
       "'No time'"
      ]
     },
     "execution_count": 43,
     "metadata": {},
     "output_type": "execute_result"
    }
   ],
   "source": [
    "a[:7] # return till 6 index"
   ]
  },
  {
   "cell_type": "code",
   "execution_count": 44,
   "id": "9f93a30a-8adb-4fb2-b7bc-afc9e3a03cd5",
   "metadata": {},
   "outputs": [
    {
     "data": {
      "text/plain": [
       "'No time at all'"
      ]
     },
     "execution_count": 44,
     "metadata": {},
     "output_type": "execute_result"
    }
   ],
   "source": [
    "a[:] # start to end"
   ]
  },
  {
   "cell_type": "code",
   "execution_count": 45,
   "id": "7525ae16-2535-41e6-a397-ba79d2453ba9",
   "metadata": {},
   "outputs": [
    {
     "name": "stdout",
     "output_type": "stream",
     "text": [
      "<class 'tuple'>\n",
      "(2, 'yuo', 2.65, [5, 7, 'fgh'], (5+5j))\n"
     ]
    },
    {
     "data": {
      "text/plain": [
       "([5, 7, 'fgh'], (5+5j))"
      ]
     },
     "execution_count": 45,
     "metadata": {},
     "output_type": "execute_result"
    }
   ],
   "source": [
    "# Tuple\n",
    "# To store multiple type things at a place\n",
    "t = (2,'yuo',2.65,[5,7, 'fgh'],5+5j)\n",
    "print(type(t))\n",
    "print(t)\n",
    "t[3]\n",
    "t[3:]"
   ]
  },
  {
   "cell_type": "code",
   "execution_count": 46,
   "id": "982ddde0-9193-477f-9259-ac72c5ab2bd8",
   "metadata": {},
   "outputs": [],
   "source": [
    "# tuples are immutable\n",
    "#t[3] = qww"
   ]
  },
  {
   "cell_type": "code",
   "execution_count": 47,
   "id": "4b7d1750-954b-4d7b-a771-a9114f0f7c32",
   "metadata": {},
   "outputs": [
    {
     "name": "stdout",
     "output_type": "stream",
     "text": [
      "(5, 5, 'five', 5)\n",
      "('five', 5, 'five', 5, 'five', 5)\n",
      "True\n",
      "False\n",
      "True\n"
     ]
    }
   ],
   "source": [
    "# Operator on tuple\n",
    "d = (5,5)\n",
    "r = (\"five\",5)\n",
    "print(d + r)\n",
    "print(r * 3)\n",
    "print(5 in d)\n",
    "print('five' in d)\n",
    "print('five' in r)"
   ]
  }
 ],
 "metadata": {
  "kernelspec": {
   "display_name": "Python 3 (ipykernel)",
   "language": "python",
   "name": "python3"
  },
  "language_info": {
   "codemirror_mode": {
    "name": "ipython",
    "version": 3
   },
   "file_extension": ".py",
   "mimetype": "text/x-python",
   "name": "python",
   "nbconvert_exporter": "python",
   "pygments_lexer": "ipython3",
   "version": "3.9.12"
  }
 },
 "nbformat": 4,
 "nbformat_minor": 5
}
